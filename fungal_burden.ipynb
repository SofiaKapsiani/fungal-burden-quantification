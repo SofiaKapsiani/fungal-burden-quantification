{
 "cells": [
  {
   "cell_type": "code",
   "execution_count": null,
   "id": "9582ab81",
   "metadata": {},
   "outputs": [],
   "source": [
    "import numpy as np\n",
    "import pandas as pd\n",
    "import cv2\n",
    "import torch\n",
    "from PIL import Image\n",
    "import statistics\n",
    "\n",
    "#visualisation\n",
    "import seaborn as sns\n",
    "import matplotlib.pylab as plt"
   ]
  },
  {
   "cell_type": "code",
   "execution_count": null,
   "id": "a9be6c5e",
   "metadata": {},
   "outputs": [],
   "source": [
    "# image and mask directories\n",
    "dir_img = './data/test/imgs/'\n",
    "dir_mask = './data/test/out/'\n",
    "\n",
    "#image id\n",
    "img_id = '1M05_22.3x_11'"
   ]
  },
  {
   "cell_type": "code",
   "execution_count": null,
   "id": "93be80a3",
   "metadata": {},
   "outputs": [],
   "source": [
    "# read the image file\n",
    "img = cv2.imread(dir_img+img_id +'.jpg', 2)\n",
    "#convert to binary\n",
    "ret, bw_img = cv2.threshold(img, 160, 255, cv2.THRESH_BINARY)\n",
    "black_pix_img = np.sum(bw_img == 0)\n",
    "\n",
    "#get figure size\n",
    "total_pix = bw_img.size\n",
    "\n",
    "# will display binary picture\n",
    "bw = cv2.threshold(img, 160, 255, cv2.THRESH_BINARY)  \n",
    "cv2.imshow(\"Binary\", bw_img)\n",
    "cv2.waitKey(0)\n",
    "cv2.destroyAllWindows()"
   ]
  },
  {
   "cell_type": "code",
   "execution_count": null,
   "id": "e59d9173",
   "metadata": {},
   "outputs": [],
   "source": [
    "# read the mask file\n",
    "mask = cv2.imread(dir_mask+img_id+'.jpg', 2)\n",
    "#convert to binary\n",
    "ret, bw_mask = cv2.threshold(mask, 150, 255, cv2.THRESH_BINARY)\n",
    "# count number of white pixels\n",
    "white_pix_mask = np.sum(bw_mask == 255)"
   ]
  },
  {
   "cell_type": "code",
   "execution_count": null,
   "id": "f71b52bb",
   "metadata": {},
   "outputs": [],
   "source": [
    "fungal_burden = (white_pix_mask/black_pix_img)*100\n",
    "fungal_burden"
   ]
  }
 ],
 "metadata": {
  "kernelspec": {
   "display_name": "Python 3",
   "language": "python",
   "name": "python3"
  },
  "language_info": {
   "codemirror_mode": {
    "name": "ipython",
    "version": 3
   },
   "file_extension": ".py",
   "mimetype": "text/x-python",
   "name": "python",
   "nbconvert_exporter": "python",
   "pygments_lexer": "ipython3",
   "version": "3.8.8"
  }
 },
 "nbformat": 4,
 "nbformat_minor": 5
}
